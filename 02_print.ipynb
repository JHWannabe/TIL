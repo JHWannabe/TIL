{
  "nbformat": 4,
  "nbformat_minor": 0,
  "metadata": {
    "colab": {
      "provenance": [],
      "authorship_tag": "ABX9TyPSFQdgGS3dE4s5QVACF9Cp",
      "include_colab_link": true
    },
    "kernelspec": {
      "name": "python3",
      "display_name": "Python 3"
    },
    "language_info": {
      "name": "python"
    }
  },
  "cells": [
    {
      "cell_type": "markdown",
      "metadata": {
        "id": "view-in-github",
        "colab_type": "text"
      },
      "source": [
        "<a href=\"https://colab.research.google.com/github/JHWannabe/TIL/blob/main/02_print.ipynb\" target=\"_parent\"><img src=\"https://colab.research.google.com/assets/colab-badge.svg\" alt=\"Open In Colab\"/></a>"
      ]
    },
    {
      "cell_type": "markdown",
      "source": [
        "#1. print 함수\n",
        "* 매개변수로 지정된 데이터를 출력하고 줄을 변경하는 역할"
      ],
      "metadata": {
        "id": "4IxXSEgAQIY-"
      }
    },
    {
      "cell_type": "code",
      "execution_count": null,
      "metadata": {
        "colab": {
          "base_uri": "https://localhost:8080/"
        },
        "id": "cungRy9oQCMy",
        "outputId": "60f8d95b-433c-4a96-a291-bef863a1aaff"
      },
      "outputs": [
        {
          "output_type": "stream",
          "name": "stdout",
          "text": [
            "안녕하세요. 파이썬!\n",
            "10\n"
          ]
        }
      ],
      "source": [
        "print(\"안녕하세요. 파이썬!\")\n",
        "print(10)"
      ]
    },
    {
      "cell_type": "markdown",
      "source": [
        "#2. 주석문"
      ],
      "metadata": {
        "id": "5EWA9yzITfUO"
      }
    },
    {
      "cell_type": "code",
      "source": [
        "# 한 줄 주석문\n",
        "\n",
        "'''\n",
        "여기는 여러줄을 주석으로 처리합니다.\n",
        "따라서 프로그램에 영향을 주지 않습니다.\n",
        "'''\n",
        "\n",
        "print('파이썬 출력하기') # 문자열 출력은 싱글 따옴표 '' 또는 쌍 따옴표 \"\"를 사용함"
      ],
      "metadata": {
        "colab": {
          "base_uri": "https://localhost:8080/"
        },
        "id": "3NHEkh_1UvEO",
        "outputId": "6498529e-b295-4312-9de1-9c26c0935c67"
      },
      "execution_count": null,
      "outputs": [
        {
          "output_type": "stream",
          "name": "stdout",
          "text": [
            "파이썬 출력하기\n"
          ]
        }
      ]
    },
    {
      "cell_type": "markdown",
      "source": [
        "#3. print 함수의 활용"
      ],
      "metadata": {
        "id": "WWpjnddWV3-f"
      }
    },
    {
      "cell_type": "code",
      "source": [
        "print(10 + 5)\n",
        "print(10 - 5)\n",
        "print(10 * 5)\n",
        "print(10 / 5)\n",
        "print(10 % 3)\n",
        "print('10 + 5')\n",
        "print('10' + 5) # TypeError: can only concatenate str (not \"int\") to str"
      ],
      "metadata": {
        "colab": {
          "base_uri": "https://localhost:8080/",
          "height": 319
        },
        "id": "5oWyd88VV8XO",
        "outputId": "aea91660-f93d-490d-aead-719fd7141250"
      },
      "execution_count": null,
      "outputs": [
        {
          "output_type": "stream",
          "name": "stdout",
          "text": [
            "15\n",
            "5\n",
            "50\n",
            "2.0\n",
            "1\n",
            "10 + 5\n"
          ]
        },
        {
          "output_type": "error",
          "ename": "TypeError",
          "evalue": "ignored",
          "traceback": [
            "\u001b[0;31m---------------------------------------------------------------------------\u001b[0m",
            "\u001b[0;31mTypeError\u001b[0m                                 Traceback (most recent call last)",
            "\u001b[0;32m<ipython-input-3-d01ff3dff1d6>\u001b[0m in \u001b[0;36m<module>\u001b[0;34m\u001b[0m\n\u001b[1;32m      5\u001b[0m \u001b[0mprint\u001b[0m\u001b[0;34m(\u001b[0m\u001b[0;36m10\u001b[0m \u001b[0;34m%\u001b[0m \u001b[0;36m3\u001b[0m\u001b[0;34m)\u001b[0m\u001b[0;34m\u001b[0m\u001b[0;34m\u001b[0m\u001b[0m\n\u001b[1;32m      6\u001b[0m \u001b[0mprint\u001b[0m\u001b[0;34m(\u001b[0m\u001b[0;34m'10 + 5'\u001b[0m\u001b[0;34m)\u001b[0m\u001b[0;34m\u001b[0m\u001b[0;34m\u001b[0m\u001b[0m\n\u001b[0;32m----> 7\u001b[0;31m \u001b[0mprint\u001b[0m\u001b[0;34m(\u001b[0m\u001b[0;34m'10'\u001b[0m \u001b[0;34m+\u001b[0m \u001b[0;36m5\u001b[0m\u001b[0;34m)\u001b[0m \u001b[0;31m# TypeError: can only concatenate str (not \"int\") to str\u001b[0m\u001b[0;34m\u001b[0m\u001b[0;34m\u001b[0m\u001b[0m\n\u001b[0m",
            "\u001b[0;31mTypeError\u001b[0m: can only concatenate str (not \"int\") to str"
          ]
        }
      ]
    },
    {
      "cell_type": "code",
      "source": [
        "print('Hello', 'Python')\n",
        "print('Hello', 'Python', 'Hi', 'Python')\n",
        "print('Hello', end='') # print 출력 후 어떻게 처리할지에 대한 옵션\n",
        "print('Python')\n",
        "print('Hello')\n",
        "print('Hello', end='💻')\n",
        "print('Python')"
      ],
      "metadata": {
        "colab": {
          "base_uri": "https://localhost:8080/"
        },
        "id": "nJYAEVXqrQmn",
        "outputId": "c061cd08-307a-4b21-a9ed-04169a91373e"
      },
      "execution_count": null,
      "outputs": [
        {
          "output_type": "stream",
          "name": "stdout",
          "text": [
            "Hello Python\n",
            "Hello Python Hi Python\n",
            "HelloPython\n",
            "Hello\n",
            "Hello💻Python\n"
          ]
        }
      ]
    },
    {
      "cell_type": "markdown",
      "source": [
        "#4. 출력 서식 지정하기\n",
        "* %d(정수), %f(실수), %s(문자열)을 사용하여 출력 서식을 지정\n",
        "* 서식을 제외한 문자는 입력한 그대로 출력이 됨\n",
        "* 서식을 지정해서 출력할 데이터가 2개 이상인 경우는 소괄호로 데이터를 묶어야 함"
      ],
      "metadata": {
        "id": "vQ-sTIxMrURn"
      }
    },
    {
      "cell_type": "code",
      "source": [
        "print('정수 : 100')\n",
        "print('정수 :', 100)\n",
        "print('정수 : %d' % 100)\n",
        "print(f'정수 : {100}')"
      ],
      "metadata": {
        "colab": {
          "base_uri": "https://localhost:8080/"
        },
        "id": "BMdAwy6EtB5J",
        "outputId": "eee00fb9-3068-437c-afbb-cc2db00e39bd"
      },
      "execution_count": null,
      "outputs": [
        {
          "output_type": "stream",
          "name": "stdout",
          "text": [
            "정수 : 100\n",
            "정수 : 100\n",
            "정수 : 100\n",
            "정수 : 100\n",
            "정수 : 100\n"
          ]
        }
      ]
    },
    {
      "cell_type": "code",
      "source": [
        "print('실수 : %.1f' % 100.5)"
      ],
      "metadata": {
        "colab": {
          "base_uri": "https://localhost:8080/"
        },
        "id": "LdHhsGgftrI3",
        "outputId": "bc583e8e-22fa-4f35-a4a9-38de0a050f86"
      },
      "execution_count": null,
      "outputs": [
        {
          "output_type": "stream",
          "name": "stdout",
          "text": [
            "실수 : 100.5\n"
          ]
        }
      ]
    },
    {
      "cell_type": "code",
      "source": [
        "print('문자열 %s' % 'Python')\n",
        "print('문자열 %s' % 100)"
      ],
      "metadata": {
        "colab": {
          "base_uri": "https://localhost:8080/"
        },
        "id": "aWAh1FMdupoX",
        "outputId": "40c90942-a57c-4c57-ffb0-10b2aaab5842"
      },
      "execution_count": null,
      "outputs": [
        {
          "output_type": "stream",
          "name": "stdout",
          "text": [
            "문자열 Python\n",
            "문자열 100\n"
          ]
        }
      ]
    },
    {
      "cell_type": "code",
      "source": [
        "print('5 + 3 = 8')\n",
        "print('%d + %d = %d' %(5,3,5+3))"
      ],
      "metadata": {
        "colab": {
          "base_uri": "https://localhost:8080/"
        },
        "id": "jPRV3sz9u29n",
        "outputId": "d63abebe-ada0-40dc-e19f-da9f90720f34"
      },
      "execution_count": null,
      "outputs": [
        {
          "output_type": "stream",
          "name": "stdout",
          "text": [
            "5 + 3 = 8\n",
            "5 + 3 = 8\n",
            "5 + 3 = 8\n"
          ]
        }
      ]
    },
    {
      "cell_type": "code",
      "source": [
        "print('%5d' % 100)\n",
        "print('%05d' % 100)\n",
        "print('%5d' % 10000)"
      ],
      "metadata": {
        "colab": {
          "base_uri": "https://localhost:8080/"
        },
        "id": "kN6pc06dvlIV",
        "outputId": "4dabcc5d-d17b-40e7-c03f-e807fd66632b"
      },
      "execution_count": null,
      "outputs": [
        {
          "output_type": "stream",
          "name": "stdout",
          "text": [
            "  100\n",
            "00100\n",
            "10000\n"
          ]
        }
      ]
    },
    {
      "cell_type": "code",
      "source": [
        "print('%06.2f' % 52.7) # 점까지 포함한 자리 수(6자리에 소수점 둘째자리까지)\n",
        "print('%06.2f' % 52.7785) # 반올림"
      ],
      "metadata": {
        "colab": {
          "base_uri": "https://localhost:8080/"
        },
        "id": "zm2XXyV8v64l",
        "outputId": "95ce0350-479b-4f70-fd0d-1ed2eb3dabdd"
      },
      "execution_count": null,
      "outputs": [
        {
          "output_type": "stream",
          "name": "stdout",
          "text": [
            "052.70\n",
            " 52.78\n"
          ]
        }
      ]
    },
    {
      "cell_type": "code",
      "source": [
        "print('%5s' % 'ABC')"
      ],
      "metadata": {
        "colab": {
          "base_uri": "https://localhost:8080/"
        },
        "id": "QaQwCyH1wyhg",
        "outputId": "88246499-7819-4625-bbfa-221fcf4c4dbb"
      },
      "execution_count": null,
      "outputs": [
        {
          "output_type": "stream",
          "name": "stdout",
          "text": [
            "  ABC\n"
          ]
        }
      ]
    },
    {
      "cell_type": "code",
      "source": [
        "# 5 / 3 = ?\n",
        "print('%d / %d = %f' %(5,3,5/3))\n",
        "print('%d / %d = %4.2f' %(5,3,5/3))"
      ],
      "metadata": {
        "colab": {
          "base_uri": "https://localhost:8080/"
        },
        "id": "LIdyLbvuxdXX",
        "outputId": "c8a113f7-ab00-4ebd-d646-985d529e2713"
      },
      "execution_count": null,
      "outputs": [
        {
          "output_type": "stream",
          "name": "stdout",
          "text": [
            "5 / 3 = 1.666667\n",
            "5 / 3 = 1.67\n",
            "5 / 3 = 1.6666666666666667\n"
          ]
        }
      ]
    },
    {
      "cell_type": "markdown",
      "source": [
        "# 5. format 함수와 출력 인덱스 사용"
      ],
      "metadata": {
        "id": "7RxaDCPnxzs_"
      }
    },
    {
      "cell_type": "code",
      "source": [
        "# 인덱스: 0부터 순서대로 진행되는 함수\n",
        "print('{} {}' .format('김사과','반하나'))\n",
        "print('{0} {1}' .format('김사과','반하나'))\n",
        "print('{1} {0}' .format('김사과','반하나'))"
      ],
      "metadata": {
        "colab": {
          "base_uri": "https://localhost:8080/"
        },
        "id": "tQfGNkVAza14",
        "outputId": "99952ba6-e7b4-4c55-9a29-78fdd4a228bd"
      },
      "execution_count": null,
      "outputs": [
        {
          "output_type": "stream",
          "name": "stdout",
          "text": [
            "김사과 반하나\n",
            "김사과 반하나\n",
            "반하나 김사과\n"
          ]
        }
      ]
    },
    {
      "cell_type": "code",
      "source": [
        "print('{0:3s}님은 {1:03d}살입니다.'.format('김사과', 20))"
      ],
      "metadata": {
        "colab": {
          "base_uri": "https://localhost:8080/"
        },
        "id": "XmLWw-a8zAmR",
        "outputId": "f6616c14-8d62-4e01-fcfe-c4904e316731"
      },
      "execution_count": null,
      "outputs": [
        {
          "output_type": "stream",
          "name": "stdout",
          "text": [
            "김사과님은 020살입니다.\n"
          ]
        }
      ]
    }
  ]
}